{
 "cells": [
  {
   "cell_type": "markdown",
   "metadata": {},
   "source": [
    "This notebook is to create pep8 compliance for functions in nflPPtools.py"
   ]
  },
  {
   "cell_type": "code",
   "execution_count": 1,
   "metadata": {
    "collapsed": true
   },
   "outputs": [],
   "source": [
    "import time\n",
    "import pep8"
   ]
  },
  {
   "cell_type": "code",
   "execution_count": 2,
   "metadata": {
    "collapsed": false
   },
   "outputs": [
    {
     "data": {
      "text/plain": [
       "'last updated Sat, 19 Mar 2016 20:00'"
      ]
     },
     "execution_count": 2,
     "metadata": {},
     "output_type": "execute_result"
    }
   ],
   "source": [
    "time.strftime(\"last updated %a, %d %b %Y %H:%M\", time.localtime())"
   ]
  },
  {
   "cell_type": "code",
   "execution_count": 3,
   "metadata": {
    "collapsed": false
   },
   "outputs": [
    {
     "name": "stdout",
     "output_type": "stream",
     "text": [
      "nflPPtools.py:166:1: E402 module level import not at top of file\r\n",
      "nflPPtools.py:173:1: E265 block comment should start with '# '\r\n",
      "nflPPtools.py:177:1: E302 expected 2 blank lines, found 1\r\n",
      "nflPPtools.py:184:80: E501 line too long (93 > 79 characters)\r\n",
      "nflPPtools.py:191:79: E231 missing whitespace after ','\r\n",
      "nflPPtools.py:200:34: E261 at least two spaces before inline comment\r\n",
      "nflPPtools.py:200:35: E262 inline comment should start with '# '\r\n",
      "nflPPtools.py:242:16: E128 continuation line under-indented for visual indent\r\n",
      "nflPPtools.py:242:41: E251 unexpected spaces around keyword / parameter equals\r\n",
      "nflPPtools.py:312:23: E201 whitespace after '['\r\n",
      "nflPPtools.py:312:40: E202 whitespace before ']'\r\n",
      "nflPPtools.py:507:14: E127 continuation line over-indented for visual indent\r\n"
     ]
    }
   ],
   "source": [
    "!pep8 --first nflPPtools.py\n",
    "#!pep8 --show-source --show-pep8 nflPPtools.py"
   ]
  }
 ],
 "metadata": {
  "kernelspec": {
   "display_name": "Python 2",
   "language": "python",
   "name": "python2"
  },
  "language_info": {
   "codemirror_mode": {
    "name": "ipython",
    "version": 2
   },
   "file_extension": ".py",
   "mimetype": "text/x-python",
   "name": "python",
   "nbconvert_exporter": "python",
   "pygments_lexer": "ipython2",
   "version": "2.7.6"
  }
 },
 "nbformat": 4,
 "nbformat_minor": 0
}
