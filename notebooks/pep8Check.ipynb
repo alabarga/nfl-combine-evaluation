{
 "cells": [
  {
   "cell_type": "markdown",
   "metadata": {},
   "source": [
    "This notebook is to create pep8 compliance for functions in nflPPtools.py"
   ]
  },
  {
   "cell_type": "code",
   "execution_count": 1,
   "metadata": {
    "collapsed": true
   },
   "outputs": [],
   "source": [
    "import time\n",
    "import pep8"
   ]
  },
  {
   "cell_type": "code",
   "execution_count": 17,
   "metadata": {
    "collapsed": false
   },
   "outputs": [
    {
     "data": {
      "text/plain": [
       "'last updated Mon, 21 Mar 2016 22:52'"
      ]
     },
     "execution_count": 17,
     "metadata": {},
     "output_type": "execute_result"
    }
   ],
   "source": [
    "time.strftime(\"last updated %a, %d %b %Y %H:%M\", time.localtime())"
   ]
  },
  {
   "cell_type": "code",
   "execution_count": 16,
   "metadata": {
    "collapsed": false
   },
   "outputs": [
    {
     "name": "stdout",
     "output_type": "stream",
     "text": [
      "nflPPtools.py:180:80: E501 line too long (80 > 79 characters)\r\n",
      "nflPPtools.py:206:24: E262 inline comment should start with '# '\r\n",
      "nflPPtools.py:207:31: E231 missing whitespace after ','\r\n",
      "nflPPtools.py:215:42: E261 at least two spaces before inline comment\r\n",
      "nflPPtools.py:219:1: E302 expected 2 blank lines, found 1\r\n",
      "nflPPtools.py:239:16: E128 continuation line under-indented for visual indent\r\n",
      "nflPPtools.py:265:28: E251 unexpected spaces around keyword / parameter equals\r\n",
      "nflPPtools.py:404:5: E265 block comment should start with '# '\r\n",
      "nflPPtools.py:504:28: E127 continuation line over-indented for visual indent\r\n"
     ]
    }
   ],
   "source": [
    "!pep8 --first nflPPtools.py\n",
    "#!pep8 --show-source --show-pep8 nflPPtools.py"
   ]
  }
 ],
 "metadata": {
  "kernelspec": {
   "display_name": "Python 2",
   "language": "python",
   "name": "python2"
  },
  "language_info": {
   "codemirror_mode": {
    "name": "ipython",
    "version": 2
   },
   "file_extension": ".py",
   "mimetype": "text/x-python",
   "name": "python",
   "nbconvert_exporter": "python",
   "pygments_lexer": "ipython2",
   "version": "2.7.6"
  }
 },
 "nbformat": 4,
 "nbformat_minor": 0
}
