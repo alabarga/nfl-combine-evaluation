{
 "cells": [
  {
   "cell_type": "code",
   "execution_count": 21,
   "metadata": {
    "collapsed": false
   },
   "outputs": [],
   "source": [
    "#Create sqlite database\n",
    "import csv, sqlite3\n",
    "db = sqlite3.connect(':memory:')\n",
    "db = sqlite3.connect('nflPPdb')\n",
    "\n",
    "cursor = db.cursor()\n",
    "cursor.execute('''\n",
    "    CREATE TABLE players( name varchar(50) PRIMARY KEY, \n",
    "                        college varchar(50),\n",
    "                        draft_team varchar(50),\n",
    "                        draft_round varchar(50),\n",
    "                        draft_pick varchar(50),\n",
    "                        draft_year int,\n",
    "                        position varchar(50),\n",
    "                        height varchar(50),\n",
    "                        weight int)\n",
    "    ''')\n",
    "cursor.execute('''\n",
    "    CREATE TABLE combine(year int,\n",
    "                        name varchar(50) PRIMARY KEY,\n",
    "                        firstname varchar(50),\n",
    "                        lastname varchar(50),\n",
    "                        position varchar(50),\n",
    "                        heightfeet int,\n",
    "                        heightinches int,\n",
    "                        heightinchestotal int,\n",
    "                        weight int,\n",
    "                        arms int,\n",
    "                        hands int,\n",
    "                        fortyyd int,\n",
    "                        twentyyd int,\n",
    "                        tenyd int,\n",
    "                        twentyss int,\n",
    "                        threecone int,\n",
    "                        vertical int,\n",
    "                        broad int,\n",
    "                        bench int,\n",
    "                        round int,\n",
    "                        college varchar(50),\n",
    "                        pick int,\n",
    "                        pickround int,\n",
    "                        picktotal int,\n",
    "                        BMI float)\n",
    "    ''')\n",
    "cursor.execute('''\n",
    "    CREATE TABLE rr(name varchar(50),\n",
    "                    year int,\n",
    "                    team varchar(50),\n",
    "                    age int,\n",
    "                    position varchar(50),\n",
    "                    games_played int,\n",
    "                    games_started int,\n",
    "                    rushing_attempts int,\n",
    "                    rushing_yards int,\n",
    "                    rushing_TD int,\n",
    "                    rushing_long int,\n",
    "                    rushing_ydsAvg float,\n",
    "                    rushing_ydsGame float,\n",
    "                    rushing_attGame float,\n",
    "                    receiving_targets int,\n",
    "                    receiving_receptions int,\n",
    "                    receiving_yards int,\n",
    "                    receiving_ydsAvg float,\n",
    "                    receiving_TD int,\n",
    "                    receiving_long int,\n",
    "                    receiving_recsGame float,\n",
    "                    receiving_ydsGame float,\n",
    "                    yardsfromScrimmage int,\n",
    "                    RRTD int,\n",
    "                    fumbles int,\n",
    "                    PRIMARY KEY (name, year))\n",
    "    ''')\n",
    "cursor.execute('''\n",
    "    CREATE TABLE passing(  name varchar(50),\n",
    "                        year int,\n",
    "                        team varchar(50),\n",
    "                        age int,\n",
    "                        position varchar(50),\n",
    "                        games_played int,\n",
    "                        games_started int,\n",
    "                        record varchar(50),\n",
    "                        completions int,\n",
    "                        attempts int,\n",
    "                        completionPct float,\n",
    "                        passing_yards int,\n",
    "                        passing_TD int,\n",
    "                        passing_TDPct float,\n",
    "                        passing_INT int,\n",
    "                        passing_INTPct float,\n",
    "                        passing_long int,\n",
    "                        passing_ydsAtt float,\n",
    "                        passing_airydsAtt float,\n",
    "                        passing_ydsComp float,\n",
    "                        passing_ydsGame float,\n",
    "                        passing_rating float,\n",
    "                        passing_sacks int,\n",
    "                        passing_sacksyds int,\n",
    "                        passing_netyds float,\n",
    "                        passing_airnetydsAtt float,\n",
    "                        passing_sackPct float,\n",
    "                        fourthQC int,\n",
    "                        gamewinningdrives int,\n",
    "                        PRIMARY KEY (name, year))\n",
    "    ''')\n",
    "\n",
    "db.commit()\n",
    "db.close()"
   ]
  },
  {
   "cell_type": "code",
   "execution_count": 20,
   "metadata": {
    "collapsed": false
   },
   "outputs": [
    {
     "data": {
      "text/plain": [
       "<sqlite3.Cursor at 0x8ca77a0>"
      ]
     },
     "execution_count": 20,
     "metadata": {},
     "output_type": "execute_result"
    }
   ],
   "source": [
    "#Delete all sql tables\n",
    "cursor = db.cursor()\n",
    "cursor.execute(''' DROP table players ''')\n",
    "cursor.execute(''' DROP table combine ''')\n",
    "cursor.execute(''' DROP table rr ''')\n",
    "cursor.execute(''' DROP table passing ''')"
   ]
  },
  {
   "cell_type": "code",
   "execution_count": 13,
   "metadata": {
    "collapsed": false
   },
   "outputs": [
    {
     "ename": "OperationalError",
     "evalue": "table combine has no column named BMI",
     "output_type": "error",
     "traceback": [
      "\u001b[1;31m---------------------------------------------------------------------------\u001b[0m",
      "\u001b[1;31mOperationalError\u001b[0m                          Traceback (most recent call last)",
      "\u001b[1;32m<ipython-input-13-c6db758ace4a>\u001b[0m in \u001b[0;36m<module>\u001b[1;34m()\u001b[0m\n\u001b[0;32m     12\u001b[0m           'bench','round','college','pick','pickround','picktotal']]\n\u001b[0;32m     13\u001b[0m \u001b[0mdf2\u001b[0m\u001b[1;33m[\u001b[0m\u001b[1;34m'BMI'\u001b[0m\u001b[1;33m]\u001b[0m \u001b[1;33m=\u001b[0m \u001b[0mdf2\u001b[0m\u001b[1;33m[\u001b[0m\u001b[1;34m'weight'\u001b[0m\u001b[1;33m]\u001b[0m \u001b[1;33m*\u001b[0m \u001b[1;36m0.45\u001b[0m \u001b[1;33m/\u001b[0m \u001b[1;33m(\u001b[0m\u001b[0mdf2\u001b[0m\u001b[1;33m[\u001b[0m\u001b[1;34m'heightinchestotal'\u001b[0m\u001b[1;33m]\u001b[0m \u001b[1;33m*\u001b[0m \u001b[1;36m0.025\u001b[0m\u001b[1;33m)\u001b[0m\u001b[1;33m**\u001b[0m\u001b[1;36m2\u001b[0m\u001b[1;33m\u001b[0m\u001b[0m\n\u001b[1;32m---> 14\u001b[1;33m \u001b[0mdf2\u001b[0m\u001b[1;33m.\u001b[0m\u001b[0mto_sql\u001b[0m\u001b[1;33m(\u001b[0m\u001b[0mname\u001b[0m\u001b[1;33m=\u001b[0m\u001b[1;34m'combine'\u001b[0m\u001b[1;33m,\u001b[0m \u001b[0mif_exists\u001b[0m\u001b[1;33m=\u001b[0m\u001b[1;34m'append'\u001b[0m\u001b[1;33m,\u001b[0m \u001b[0mcon\u001b[0m\u001b[1;33m=\u001b[0m\u001b[0mcon\u001b[0m\u001b[1;33m)\u001b[0m\u001b[1;33m\u001b[0m\u001b[0m\n\u001b[0m\u001b[0;32m     15\u001b[0m \u001b[1;33m\u001b[0m\u001b[0m\n\u001b[0;32m     16\u001b[0m \u001b[0mdf3\u001b[0m \u001b[1;33m=\u001b[0m \u001b[0mpd\u001b[0m\u001b[1;33m.\u001b[0m\u001b[0mread_csv\u001b[0m\u001b[1;33m(\u001b[0m\u001b[1;34m'pfr-rushing-receiving/mergedRushingReceiving.csv'\u001b[0m\u001b[1;33m)\u001b[0m\u001b[1;33m\u001b[0m\u001b[0m\n",
      "\u001b[1;32mc:\\Users\\long\\Miniconda2\\lib\\site-packages\\pandas\\core\\generic.pyc\u001b[0m in \u001b[0;36mto_sql\u001b[1;34m(self, name, con, flavor, schema, if_exists, index, index_label, chunksize, dtype)\u001b[0m\n\u001b[0;32m   1001\u001b[0m             \u001b[0mself\u001b[0m\u001b[1;33m,\u001b[0m \u001b[0mname\u001b[0m\u001b[1;33m,\u001b[0m \u001b[0mcon\u001b[0m\u001b[1;33m,\u001b[0m \u001b[0mflavor\u001b[0m\u001b[1;33m=\u001b[0m\u001b[0mflavor\u001b[0m\u001b[1;33m,\u001b[0m \u001b[0mschema\u001b[0m\u001b[1;33m=\u001b[0m\u001b[0mschema\u001b[0m\u001b[1;33m,\u001b[0m \u001b[0mif_exists\u001b[0m\u001b[1;33m=\u001b[0m\u001b[0mif_exists\u001b[0m\u001b[1;33m,\u001b[0m\u001b[1;33m\u001b[0m\u001b[0m\n\u001b[0;32m   1002\u001b[0m             \u001b[0mindex\u001b[0m\u001b[1;33m=\u001b[0m\u001b[0mindex\u001b[0m\u001b[1;33m,\u001b[0m \u001b[0mindex_label\u001b[0m\u001b[1;33m=\u001b[0m\u001b[0mindex_label\u001b[0m\u001b[1;33m,\u001b[0m \u001b[0mchunksize\u001b[0m\u001b[1;33m=\u001b[0m\u001b[0mchunksize\u001b[0m\u001b[1;33m,\u001b[0m\u001b[1;33m\u001b[0m\u001b[0m\n\u001b[1;32m-> 1003\u001b[1;33m             dtype=dtype)\n\u001b[0m\u001b[0;32m   1004\u001b[0m \u001b[1;33m\u001b[0m\u001b[0m\n\u001b[0;32m   1005\u001b[0m     \u001b[1;32mdef\u001b[0m \u001b[0mto_pickle\u001b[0m\u001b[1;33m(\u001b[0m\u001b[0mself\u001b[0m\u001b[1;33m,\u001b[0m \u001b[0mpath\u001b[0m\u001b[1;33m)\u001b[0m\u001b[1;33m:\u001b[0m\u001b[1;33m\u001b[0m\u001b[0m\n",
      "\u001b[1;32mc:\\Users\\long\\Miniconda2\\lib\\site-packages\\pandas\\io\\sql.pyc\u001b[0m in \u001b[0;36mto_sql\u001b[1;34m(frame, name, con, flavor, schema, if_exists, index, index_label, chunksize, dtype)\u001b[0m\n\u001b[0;32m    567\u001b[0m     pandas_sql.to_sql(frame, name, if_exists=if_exists, index=index,\n\u001b[0;32m    568\u001b[0m                       \u001b[0mindex_label\u001b[0m\u001b[1;33m=\u001b[0m\u001b[0mindex_label\u001b[0m\u001b[1;33m,\u001b[0m \u001b[0mschema\u001b[0m\u001b[1;33m=\u001b[0m\u001b[0mschema\u001b[0m\u001b[1;33m,\u001b[0m\u001b[1;33m\u001b[0m\u001b[0m\n\u001b[1;32m--> 569\u001b[1;33m                       chunksize=chunksize, dtype=dtype)\n\u001b[0m\u001b[0;32m    570\u001b[0m \u001b[1;33m\u001b[0m\u001b[0m\n\u001b[0;32m    571\u001b[0m \u001b[1;33m\u001b[0m\u001b[0m\n",
      "\u001b[1;32mc:\\Users\\long\\Miniconda2\\lib\\site-packages\\pandas\\io\\sql.pyc\u001b[0m in \u001b[0;36mto_sql\u001b[1;34m(self, frame, name, if_exists, index, index_label, schema, chunksize, dtype)\u001b[0m\n\u001b[0;32m   1632\u001b[0m                             dtype=dtype)\n\u001b[0;32m   1633\u001b[0m         \u001b[0mtable\u001b[0m\u001b[1;33m.\u001b[0m\u001b[0mcreate\u001b[0m\u001b[1;33m(\u001b[0m\u001b[1;33m)\u001b[0m\u001b[1;33m\u001b[0m\u001b[0m\n\u001b[1;32m-> 1634\u001b[1;33m         \u001b[0mtable\u001b[0m\u001b[1;33m.\u001b[0m\u001b[0minsert\u001b[0m\u001b[1;33m(\u001b[0m\u001b[0mchunksize\u001b[0m\u001b[1;33m)\u001b[0m\u001b[1;33m\u001b[0m\u001b[0m\n\u001b[0m\u001b[0;32m   1635\u001b[0m \u001b[1;33m\u001b[0m\u001b[0m\n\u001b[0;32m   1636\u001b[0m     \u001b[1;32mdef\u001b[0m \u001b[0mhas_table\u001b[0m\u001b[1;33m(\u001b[0m\u001b[0mself\u001b[0m\u001b[1;33m,\u001b[0m \u001b[0mname\u001b[0m\u001b[1;33m,\u001b[0m \u001b[0mschema\u001b[0m\u001b[1;33m=\u001b[0m\u001b[0mNone\u001b[0m\u001b[1;33m)\u001b[0m\u001b[1;33m:\u001b[0m\u001b[1;33m\u001b[0m\u001b[0m\n",
      "\u001b[1;32mc:\\Users\\long\\Miniconda2\\lib\\site-packages\\pandas\\io\\sql.pyc\u001b[0m in \u001b[0;36minsert\u001b[1;34m(self, chunksize)\u001b[0m\n\u001b[0;32m    763\u001b[0m \u001b[1;33m\u001b[0m\u001b[0m\n\u001b[0;32m    764\u001b[0m                 \u001b[0mchunk_iter\u001b[0m \u001b[1;33m=\u001b[0m \u001b[0mzip\u001b[0m\u001b[1;33m(\u001b[0m\u001b[1;33m*\u001b[0m\u001b[1;33m[\u001b[0m\u001b[0marr\u001b[0m\u001b[1;33m[\u001b[0m\u001b[0mstart_i\u001b[0m\u001b[1;33m:\u001b[0m\u001b[0mend_i\u001b[0m\u001b[1;33m]\u001b[0m \u001b[1;32mfor\u001b[0m \u001b[0marr\u001b[0m \u001b[1;32min\u001b[0m \u001b[0mdata_list\u001b[0m\u001b[1;33m]\u001b[0m\u001b[1;33m)\u001b[0m\u001b[1;33m\u001b[0m\u001b[0m\n\u001b[1;32m--> 765\u001b[1;33m                 \u001b[0mself\u001b[0m\u001b[1;33m.\u001b[0m\u001b[0m_execute_insert\u001b[0m\u001b[1;33m(\u001b[0m\u001b[0mconn\u001b[0m\u001b[1;33m,\u001b[0m \u001b[0mkeys\u001b[0m\u001b[1;33m,\u001b[0m \u001b[0mchunk_iter\u001b[0m\u001b[1;33m)\u001b[0m\u001b[1;33m\u001b[0m\u001b[0m\n\u001b[0m\u001b[0;32m    766\u001b[0m \u001b[1;33m\u001b[0m\u001b[0m\n\u001b[0;32m    767\u001b[0m     def _query_iterator(self, result, chunksize, columns, coerce_float=True,\n",
      "\u001b[1;32mc:\\Users\\long\\Miniconda2\\lib\\site-packages\\pandas\\io\\sql.pyc\u001b[0m in \u001b[0;36m_execute_insert\u001b[1;34m(self, conn, keys, data_iter)\u001b[0m\n\u001b[0;32m   1418\u001b[0m     \u001b[1;32mdef\u001b[0m \u001b[0m_execute_insert\u001b[0m\u001b[1;33m(\u001b[0m\u001b[0mself\u001b[0m\u001b[1;33m,\u001b[0m \u001b[0mconn\u001b[0m\u001b[1;33m,\u001b[0m \u001b[0mkeys\u001b[0m\u001b[1;33m,\u001b[0m \u001b[0mdata_iter\u001b[0m\u001b[1;33m)\u001b[0m\u001b[1;33m:\u001b[0m\u001b[1;33m\u001b[0m\u001b[0m\n\u001b[0;32m   1419\u001b[0m         \u001b[0mdata_list\u001b[0m \u001b[1;33m=\u001b[0m \u001b[0mlist\u001b[0m\u001b[1;33m(\u001b[0m\u001b[0mdata_iter\u001b[0m\u001b[1;33m)\u001b[0m\u001b[1;33m\u001b[0m\u001b[0m\n\u001b[1;32m-> 1420\u001b[1;33m         \u001b[0mconn\u001b[0m\u001b[1;33m.\u001b[0m\u001b[0mexecutemany\u001b[0m\u001b[1;33m(\u001b[0m\u001b[0mself\u001b[0m\u001b[1;33m.\u001b[0m\u001b[0minsert_statement\u001b[0m\u001b[1;33m(\u001b[0m\u001b[1;33m)\u001b[0m\u001b[1;33m,\u001b[0m \u001b[0mdata_list\u001b[0m\u001b[1;33m)\u001b[0m\u001b[1;33m\u001b[0m\u001b[0m\n\u001b[0m\u001b[0;32m   1421\u001b[0m \u001b[1;33m\u001b[0m\u001b[0m\n\u001b[0;32m   1422\u001b[0m     \u001b[1;32mdef\u001b[0m \u001b[0m_create_table_setup\u001b[0m\u001b[1;33m(\u001b[0m\u001b[0mself\u001b[0m\u001b[1;33m)\u001b[0m\u001b[1;33m:\u001b[0m\u001b[1;33m\u001b[0m\u001b[0m\n",
      "\u001b[1;31mOperationalError\u001b[0m: table combine has no column named BMI"
     ]
    }
   ],
   "source": [
    "#Load csvs into sql tables\n",
    "import pandas as pd\n",
    "con = sqlite3.connect(\"nflPPdb.sqlite\")\n",
    "con.text_factory = str\n",
    "df1 = pd.read_csv('NFLPlayersDatabase.csv')\n",
    "df1 = df1[['name','college','draft_team','draft_round','draft_pick','draft_year','position','height','weight']]\n",
    "df1.to_sql(name='players', if_exists='append', con=con)\n",
    "\n",
    "df2 = pd.read_csv('NFLCombineStats1999-2015.csv')\n",
    "df2 = df2[['year','name','firstname','lastname','position','heightfeet','heightinches','heightinchestotal',\n",
    "          'weight','arms','hands','fortyyd','twentyyd','tenyd','twentyss','threecone','vertical','broad',\n",
    "          'bench','round','college','pick','pickround','picktotal']]\n",
    "df2['BMI'] = df2['weight'] * 0.45 / (df2['heightinchestotal'] * 0.025)**2\n",
    "df2.to_sql(name='combine', if_exists='append', con=con)\n",
    "\n",
    "df3 = pd.read_csv('pfr-rushing-receiving/mergedRushingReceiving.csv')\n",
    "df3 = df3[['name', 'year', 'team','age', 'position', 'games_played','games_started', 'rushing_attempts', \n",
    "          'rushing_yards', 'rushing_TD','rushing_long','rushing_ydsAvg', 'rushing_ydsGame', 'rushing_attGame',\n",
    "          'receiving_targets','receiving_receptions','receiving_yards','receiving_ydsAvg','receiving_TD',\n",
    "          'receiving_long','receiving_recsGame','receiving_ydsGame','yardsfromScrimmage', 'RRTD', 'fumbles']]\n",
    "df3.to_sql(name='rr', if_exists='append', con=con)\n",
    "\n",
    "df4 = pd.read_csv('pfr-passing/mergedPassing.csv')\n",
    "df4 = df4[['name','year','team','age','position','games_played','games_started','record','completions','attempts',\n",
    "          'completionPct','passing_yards','passing_TD','passing_TDPct','passing_INT','passing_INTPct','passing_long',\n",
    "          'passing_ydsAtt','passing_airydsAtt','passing_ydsComp','passing_ydsGame','passing_rating','passing_sacks',\n",
    "          'passing_sacksyds','passing_netyds','passing_airnetydsAtt','passing_sackPct','fourthQC','gamewinningdrives']]\n",
    "df4.to_sql(name='passing', if_exists='append', con=con)"
   ]
  },
  {
   "cell_type": "code",
   "execution_count": 18,
   "metadata": {
    "collapsed": false
   },
   "outputs": [],
   "source": [
    "#Convert SQL tables to pandas data frames\n",
    "players = pd.read_sql_query('SELECT * FROM players', con)\n",
    "combine = pd.read_sql_query('SELECT * FROM combine', con)\n",
    "rr = pd.read_sql_query('SELECT * FROM rr', con)\n",
    "passing = pd.read_sql_query('SELECT * FROM passing', con)"
   ]
  },
  {
   "cell_type": "code",
   "execution_count": null,
   "metadata": {
    "collapsed": true
   },
   "outputs": [],
   "source": []
  }
 ],
 "metadata": {
  "kernelspec": {
   "display_name": "Python 2",
   "language": "python",
   "name": "python2"
  },
  "language_info": {
   "codemirror_mode": {
    "name": "ipython",
    "version": 2
   },
   "file_extension": ".py",
   "mimetype": "text/x-python",
   "name": "python",
   "nbconvert_exporter": "python",
   "pygments_lexer": "ipython2",
   "version": "2.7.11"
  }
 },
 "nbformat": 4,
 "nbformat_minor": 0
}
