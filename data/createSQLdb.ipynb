{
 "cells": [
  {
   "cell_type": "code",
   "execution_count": 49,
   "metadata": {
    "collapsed": false
   },
   "outputs": [],
   "source": [
    "#Create sqlite database\n",
    "import csv, sqlite3\n",
    "db = sqlite3.connect(':memory:')\n",
    "db = sqlite3.connect('nflPPdb')\n",
    "\n",
    "cursor = db.cursor()\n",
    "cursor.execute('''\n",
    "    CREATE TABLE players( name varchar(50) PRIMARY KEY, \n",
    "                        college varchar(50),\n",
    "                        draft_team varchar(50),\n",
    "                        draft_round varchar(50),\n",
    "                        draft_pick varchar(50),\n",
    "                        draft_year int,\n",
    "                        position varchar(50),\n",
    "                        height varchar(50),\n",
    "                        weight int)\n",
    "    ''')\n",
    "cursor.execute('''\n",
    "    CREATE TABLE combine(year int,\n",
    "                        name varchar(50) PRIMARY KEY,\n",
    "                        firstname varchar(50),\n",
    "                        lastname varchar(50),\n",
    "                        position varchar(50),\n",
    "                        heightfeet int,\n",
    "                        heightinches int,\n",
    "                        heightinchestotal int,\n",
    "                        weight int,\n",
    "                        arms int,\n",
    "                        hands int,\n",
    "                        fortyyd int,\n",
    "                        twentyyd int,\n",
    "                        tenyd int,\n",
    "                        twentyss int,\n",
    "                        threecone int,\n",
    "                        vertical int,\n",
    "                        broad int,\n",
    "                        bench int,\n",
    "                        round int,\n",
    "                        college varchar(50),\n",
    "                        pick int,\n",
    "                        pickround int,\n",
    "                        picktotal int)\n",
    "    ''')\n",
    "cursor.execute('''\n",
    "    CREATE TABLE rr(name varchar(50),\n",
    "                    year int,\n",
    "                    team varchar(50),\n",
    "                    age int,\n",
    "                    position varchar(50),\n",
    "                    games_played int,\n",
    "                    games_started int,\n",
    "                    rushing_attempts int,\n",
    "                    rushing_yards int,\n",
    "                    rushing_TD int,\n",
    "                    rushing_long int,\n",
    "                    rushing_ydsAvg float,\n",
    "                    rushing_ydsGame float,\n",
    "                    rushing_attGame float,\n",
    "                    receiving_targets int,\n",
    "                    receiving_receptions int,\n",
    "                    receiving_yards int,\n",
    "                    receiving_ydsAvg float,\n",
    "                    receiving_TD int,\n",
    "                    receiving_long int,\n",
    "                    receiving_recsGame float,\n",
    "                    receiving_ydsGame float,\n",
    "                    yardsfromScrimmage int,\n",
    "                    RRTD int,\n",
    "                    fumbles int,\n",
    "                    PRIMARY KEY (name, year))\n",
    "    ''')\n",
    "cursor.execute('''\n",
    "    CREATE TABLE passing(  name varchar(50),\n",
    "                        year int,\n",
    "                        team varchar(50),\n",
    "                        age int,\n",
    "                        position varchar(50),\n",
    "                        games_played int,\n",
    "                        games_started int,\n",
    "                        record varchar(50),\n",
    "                        completions int,\n",
    "                        attempts int,\n",
    "                        completionPct float,\n",
    "                        passing_yards int,\n",
    "                        passing_TD int,\n",
    "                        passing_TDPct float,\n",
    "                        passing_INT int,\n",
    "                        passing_INTPct float,\n",
    "                        passing_long int,\n",
    "                        passing_ydsAtt float,\n",
    "                        passing_airydsAtt float,\n",
    "                        passing_ydsComp float,\n",
    "                        passing_ydsGame float,\n",
    "                        passing_rating float,\n",
    "                        passing_sacks int,\n",
    "                        passing_sacksyds int,\n",
    "                        passing_netyds float,\n",
    "                        passing_airnetydsAtt float,\n",
    "                        passing_sackPct float,\n",
    "                        fourthQC int,\n",
    "                        gamewinningdrives int,\n",
    "                        PRIMARY KEY (name, year))\n",
    "    ''')\n",
    "\n",
    "db.commit()\n",
    "db.close()"
   ]
  },
  {
   "cell_type": "code",
   "execution_count": 48,
   "metadata": {
    "collapsed": false
   },
   "outputs": [
    {
     "data": {
      "text/plain": [
       "<sqlite3.Cursor at 0xf95612b960>"
      ]
     },
     "execution_count": 48,
     "metadata": {},
     "output_type": "execute_result"
    }
   ],
   "source": [
    "#Delete all sql tables\n",
    "cursor = db.cursor()\n",
    "cursor.execute(''' DROP table players ''')\n",
    "cursor.execute(''' DROP table combine ''')\n",
    "cursor.execute(''' DROP table rr ''')\n",
    "cursor.execute(''' DROP table passing ''')"
   ]
  },
  {
   "cell_type": "code",
   "execution_count": 50,
   "metadata": {
    "collapsed": false
   },
   "outputs": [],
   "source": [
    "#Load csvs into sql tables\n",
    "import pandas as pd\n",
    "con = sqlite3.connect(\"nflPPdb.sqlite\")\n",
    "df1 = pd.read_csv('NFLPlayersDatabase.csv')\n",
    "df1 = df1[['name','college','draft_team','draft_round','draft_pick','draft_year','position','height','weight']]\n",
    "df1.to_sql(name='players', if_exists='append', con=con)\n",
    "\n",
    "df2 = pd.read_csv('NFLCombineStats1999-2015.csv')\n",
    "df2 = df2[['year','name','firstname','lastname','position','heightfeet','heightinches','heightinchestotal',\n",
    "          'weight','arms','hands','fortyyd','twentyyd','tenyd','twentyss','threecone','vertical','broad',\n",
    "          'bench','round','college','pick','pickround','picktotal']]\n",
    "df2.to_sql(name='combine', if_exists='append', con=con)\n",
    "\n",
    "df3 = pd.read_csv('pfr-rushing-receiving/mergedRushingReceiving.csv')\n",
    "df3 = df3[['name', 'year', 'team','age', 'position', 'games_played','games_started', 'rushing_attempts', \n",
    "          'rushing_yards', 'rushing_TD','rushing_long','rushing_ydsAvg', 'rushing_ydsGame', 'rushing_attGame',\n",
    "          'receiving_targets','receiving_receptions','receiving_yards','receiving_ydsAvg','receiving_TD',\n",
    "          'receiving_long','receiving_recsGame','receiving_ydsGame','yardsfromScrimmage', 'RRTD', 'fumbles']]\n",
    "df3.to_sql(name='rr', if_exists='append', con=con)\n",
    "\n",
    "df4 = pd.read_csv('pfr-passing/mergedPassing.csv')\n",
    "df4 = df4[['name','year','team','age','position','games_played','games_started','record','completions','attempts',\n",
    "          'completionPct','passing_yards','passing_TD','passing_TDPct','passing_INT','passing_INTPct','passing_long',\n",
    "          'passing_ydsAtt','passing_airydsAtt','passing_ydsComp','passing_ydsGame','passing_rating','passing_sacks',\n",
    "          'passing_sacksyds','passing_netyds','passing_airnetydsAtt','passing_sackPct','fourthQC','gamewinningdrives']]\n",
    "df4.to_sql(name='passing', if_exists='append', con=con)"
   ]
  },
  {
   "cell_type": "code",
   "execution_count": 51,
   "metadata": {
    "collapsed": false
   },
   "outputs": [],
   "source": [
    "#Convert SQL tables to pandas data frames\n",
    "players = pd.read_sql_query('SELECT * FROM players', con)\n",
    "combine = pd.read_sql_query('SELECT * FROM combine', con)\n",
    "rr = pd.read_sql_query('SELECT * FROM rr', con)\n",
    "passing = pd.read_sql_query('SELECT * FROM passing', con)"
   ]
  },
  {
   "cell_type": "code",
   "execution_count": null,
   "metadata": {
    "collapsed": true
   },
   "outputs": [],
   "source": []
  }
 ],
 "metadata": {
  "kernelspec": {
   "display_name": "Python 3",
   "language": "python",
   "name": "python3"
  },
  "language_info": {
   "codemirror_mode": {
    "name": "ipython",
    "version": 3
   },
   "file_extension": ".py",
   "mimetype": "text/x-python",
   "name": "python",
   "nbconvert_exporter": "python",
   "pygments_lexer": "ipython3",
   "version": "3.5.1"
  }
 },
 "nbformat": 4,
 "nbformat_minor": 0
}
