{
 "cells": [
  {
   "cell_type": "code",
   "execution_count": 1,
   "metadata": {
    "collapsed": true
   },
   "outputs": [],
   "source": [
    "import sqlite3\n",
    "import matplotlib\n",
    "%matplotlib inline"
   ]
  },
  {
   "cell_type": "code",
   "execution_count": 2,
   "metadata": {
    "collapsed": true
   },
   "outputs": [],
   "source": [
    "import pandas as pd\n"
   ]
  },
  {
   "cell_type": "code",
   "execution_count": 3,
   "metadata": {
    "collapsed": false
   },
   "outputs": [],
   "source": [
    "con = sqlite3.connect(\"nflPPdb.sqlite\")\n",
    "players = pd.read_sql_query('SELECT * FROM players', con)\n",
    "combine = pd.read_sql_query('SELECT * FROM combine', con)\n",
    "rr = pd.read_sql_query('SELECT * FROM rr', con)\n",
    "passing = pd.read_sql_query('SELECT * FROM passing', con)"
   ]
  },
  {
   "cell_type": "code",
   "execution_count": 7,
   "metadata": {
    "collapsed": true
   },
   "outputs": [],
   "source": [
    "rr['total_yards'] = rr['receiving_yards'] + rr['rushing_yards']\n",
    "ydsData = rr[rr['position'].isin(['QB' , 'RB'])]\n",
    "ydsData = ydsData.set_index(ydsData['name'])\n",
    "ydsData = ydsData.groupby(['name'])['total_yards'].sum()\n",
    "ydsData = ydsData.dropna()\n",
    "ydsData = ydsData.drop_duplicates()"
   ]
  },
  {
   "cell_type": "code",
   "execution_count": 8,
   "metadata": {
    "collapsed": true
   },
   "outputs": [],
   "source": [
    "combineData = combine[combine['position'].isin(['QB' , 'RB'])]\n",
    "combineData = combineData.set_index(combineData['name'])\n",
    "combineData = combineData['BMI']\n",
    "combineData = combineData.drop_duplicates()"
   ]
  },
  {
   "cell_type": "code",
   "execution_count": 16,
   "metadata": {
    "collapsed": false
   },
   "outputs": [
    {
     "data": {
      "text/html": [
       "<div>\n",
       "<table border=\"1\" class=\"dataframe\">\n",
       "  <thead>\n",
       "    <tr style=\"text-align: right;\">\n",
       "      <th></th>\n",
       "      <th>BMI</th>\n",
       "      <th>total_yards</th>\n",
       "    </tr>\n",
       "  </thead>\n",
       "  <tbody>\n",
       "    <tr>\n",
       "      <th>Aaron Brooks</th>\n",
       "      <td>25.304709</td>\n",
       "      <td>870</td>\n",
       "    </tr>\n",
       "    <tr>\n",
       "      <th>Anthony Thomas</th>\n",
       "      <td>30.109569</td>\n",
       "      <td>16525</td>\n",
       "    </tr>\n",
       "    <tr>\n",
       "      <th>Daunte Culpepper</th>\n",
       "      <td>31.786704</td>\n",
       "      <td>2080</td>\n",
       "    </tr>\n",
       "    <tr>\n",
       "      <th>Deuce McAllister</th>\n",
       "      <td>29.994370</td>\n",
       "      <td>32270</td>\n",
       "    </tr>\n",
       "    <tr>\n",
       "      <th>Donovan McNabb</th>\n",
       "      <td>29.320672</td>\n",
       "      <td>5615</td>\n",
       "    </tr>\n",
       "    <tr>\n",
       "      <th>Edgerrin James</th>\n",
       "      <td>29.183712</td>\n",
       "      <td>59365</td>\n",
       "    </tr>\n",
       "    <tr>\n",
       "      <th>Jamal Lewis</th>\n",
       "      <td>32.426346</td>\n",
       "      <td>62430</td>\n",
       "    </tr>\n",
       "    <tr>\n",
       "      <th>James Jackson</th>\n",
       "      <td>29.994049</td>\n",
       "      <td>3050</td>\n",
       "    </tr>\n",
       "    <tr>\n",
       "      <th>Kevin Faulk</th>\n",
       "      <td>31.920415</td>\n",
       "      <td>13805</td>\n",
       "    </tr>\n",
       "  </tbody>\n",
       "</table>\n",
       "</div>"
      ],
      "text/plain": [
       "                        BMI  total_yards\n",
       "Aaron Brooks      25.304709          870\n",
       "Anthony Thomas    30.109569        16525\n",
       "Daunte Culpepper  31.786704         2080\n",
       "Deuce McAllister  29.994370        32270\n",
       "Donovan McNabb    29.320672         5615\n",
       "Edgerrin James    29.183712        59365\n",
       "Jamal Lewis       32.426346        62430\n",
       "James Jackson     29.994049         3050\n",
       "Kevin Faulk       31.920415        13805"
      ]
     },
     "execution_count": 16,
     "metadata": {},
     "output_type": "execute_result"
    }
   ],
   "source": [
    "regdata = pd.concat([combineData[0:100],ydsData[0:100]],axis=1)\n",
    "regdata = regdata.dropna()\n",
    "regdata"
   ]
  },
  {
   "cell_type": "code",
   "execution_count": 17,
   "metadata": {
    "collapsed": true
   },
   "outputs": [],
   "source": [
    "import statsmodels.api as sm"
   ]
  },
  {
   "cell_type": "code",
   "execution_count": 19,
   "metadata": {
    "collapsed": true
   },
   "outputs": [],
   "source": [
    "mod = sm.OLS(regdata['BMI'],regdata['total_yards'])"
   ]
  },
  {
   "cell_type": "code",
   "execution_count": 20,
   "metadata": {
    "collapsed": false
   },
   "outputs": [],
   "source": [
    "res = mod.fit()"
   ]
  },
  {
   "cell_type": "code",
   "execution_count": 22,
   "metadata": {
    "collapsed": false
   },
   "outputs": [
    {
     "name": "stdout",
     "output_type": "stream",
     "text": [
      "                            OLS Regression Results                            \n",
      "==============================================================================\n",
      "Dep. Variable:                    BMI   R-squared:                       0.494\n",
      "Model:                            OLS   Adj. R-squared:                  0.431\n",
      "Method:                 Least Squares   F-statistic:                     7.816\n",
      "Date:                Sun, 06 Mar 2016   Prob (F-statistic):             0.0234\n",
      "Time:                        21:26:20   Log-Likelihood:                -40.335\n",
      "No. Observations:                   9   AIC:                             82.67\n",
      "Df Residuals:                       8   BIC:                             82.87\n",
      "Df Model:                           1                                         \n",
      "Covariance Type:            nonrobust                                         \n",
      "===============================================================================\n",
      "                  coef    std err          t      P>|t|      [95.0% Conf. Int.]\n",
      "-------------------------------------------------------------------------------\n",
      "total_yards     0.0007      0.000      2.796      0.023         0.000     0.001\n",
      "==============================================================================\n",
      "Omnibus:                        2.248   Durbin-Watson:                   0.891\n",
      "Prob(Omnibus):                  0.325   Jarque-Bera (JB):                1.413\n",
      "Skew:                          -0.873   Prob(JB):                        0.493\n",
      "Kurtosis:                       2.150   Cond. No.                         1.00\n",
      "==============================================================================\n",
      "\n",
      "Warnings:\n",
      "[1] Standard Errors assume that the covariance matrix of the errors is correctly specified.\n"
     ]
    },
    {
     "name": "stderr",
     "output_type": "stream",
     "text": [
      "/Users/long/miniconda2/lib/python2.7/site-packages/scipy/stats/stats.py:1557: UserWarning: kurtosistest only valid for n>=20 ... continuing anyway, n=9\n",
      "  \"anyway, n=%i\" % int(n))\n"
     ]
    }
   ],
   "source": [
    "print res.summary()"
   ]
  },
  {
   "cell_type": "code",
   "execution_count": 30,
   "metadata": {
    "collapsed": false
   },
   "outputs": [
    {
     "data": {
      "image/png": "[encoded data removed]",
      "text/plain": [
       "<matplotlib.figure.Figure at 0x11b038cd0>"
      ]
     },
     "execution_count": 30,
     "metadata": {},
     "output_type": "execute_result"
    },
    {
     "data": {
      "image/png": "[encoded data removed]",
      "text/plain": [
       "<matplotlib.figure.Figure at 0x11b038cd0>"
      ]
     },
     "metadata": {},
     "output_type": "display_data"
    }
   ],
   "source": [
    "sm.graphics.plot_partregress('BMI', 'total_yards', [], data = regdata, obs_labels=False)"
   ]
  },
  {
   "cell_type": "code",
   "execution_count": 11,
   "metadata": {
    "collapsed": false
   },
   "outputs": [
    {
     "data": {
      "text/plain": [
       "<matplotlib.axes._subplots.AxesSubplot at 0x1106b7bd0>"
      ]
     },
     "execution_count": 11,
     "metadata": {},
     "output_type": "execute_result"
    },
    {
     "data": {
      "image/png": "[encoded data removed]",
      "text/plain": [
       "<matplotlib.figure.Figure at 0x10559b690>"
      ]
     },
     "metadata": {},
     "output_type": "display_data"
    }
   ],
   "source": [
    "combine_sort = combine.groupby(['college'])['index'].count()\n",
    "combine_sort = combine_sort.sort_values(ascending =False)\n",
    "combine_sort[0:10].plot(kind = 'Bar')"
   ]
  },
  {
   "cell_type": "code",
   "execution_count": null,
   "metadata": {
    "collapsed": true
   },
   "outputs": [],
   "source": []
  }
 ],
 "metadata": {
  "kernelspec": {
   "display_name": "Python 2",
   "language": "python",
   "name": "python2"
  },
  "language_info": {
   "codemirror_mode": {
    "name": "ipython",
    "version": 2
   },
   "file_extension": ".py",
   "mimetype": "text/x-python",
   "name": "python",
   "nbconvert_exporter": "python",
   "pygments_lexer": "ipython2",
   "version": "2.7.11"
  }
 },
 "nbformat": 4,
 "nbformat_minor": 0
}
