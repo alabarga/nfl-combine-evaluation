{
 "cells": [
  {
   "cell_type": "code",
   "execution_count": 1,
   "metadata": {
    "collapsed": true
   },
   "outputs": [],
   "source": [
    "import matplotlib.pyplot as plt\n",
    "from mpl_toolkits.mplot3d import Axes3D\n",
    "import numpy as np\n",
    "import pandas as pd\n",
    "import sqlite3\n",
    "import statsmodels.api as sm\n",
    "%matplotlib inline"
   ]
  },
  {
   "cell_type": "code",
   "execution_count": 2,
   "metadata": {
    "collapsed": false
   },
   "outputs": [],
   "source": [
    "con = sqlite3.connect(\"nflPPdb.sqlite\")\n",
    "players = pd.read_sql_query('SELECT * FROM players', con)\n",
    "combine = pd.read_sql_query('SELECT * FROM combine', con)\n",
    "rr = pd.read_sql_query('SELECT * FROM rr', con)\n",
    "passing = pd.read_sql_query('SELECT * FROM passing', con)"
   ]
  },
  {
   "cell_type": "code",
   "execution_count": 3,
   "metadata": {
    "collapsed": true
   },
   "outputs": [],
   "source": [
    "rr['total_yards'] = rr['receiving_yards'] + rr['rushing_yards']\n",
    "ydsData = rr[rr['position'].isin(['QB' , 'RB' , 'qb' , 'rb'])]\n",
    "ydsData = ydsData.set_index(ydsData['name'])\n",
    "ydsData = ydsData.groupby(['name'])['total_yards', 'receiving_yards','rushing_yards'].sum()\n",
    "ydsData = ydsData.dropna()\n",
    "ydsData = ydsData.drop_duplicates()"
   ]
  },
  {
   "cell_type": "code",
   "execution_count": 4,
   "metadata": {
    "collapsed": false
   },
   "outputs": [],
   "source": [
    "combineData = combine[combine['position'].isin(['QB' , 'RB', 'qb' , 'rb'])]\n",
    "combineData = combineData.set_index(combineData['name'])\n",
    "combineData = combineData[['speedscore','BMI']]\n",
    "combineData = combineData.drop_duplicates()"
   ]
  },
  {
   "cell_type": "code",
   "execution_count": 5,
   "metadata": {
    "collapsed": false
   },
   "outputs": [
    {
     "data": {
      "text/html": [
       "<div>\n",
       "<table border=\"1\" class=\"dataframe\">\n",
       "  <thead>\n",
       "    <tr style=\"text-align: right;\">\n",
       "      <th></th>\n",
       "      <th>speedscore</th>\n",
       "      <th>BMI</th>\n",
       "      <th>total_yards</th>\n",
       "      <th>receiving_yards</th>\n",
       "      <th>rushing_yards</th>\n",
       "    </tr>\n",
       "  </thead>\n",
       "  <tbody>\n",
       "    <tr>\n",
       "      <th>Aaron Brooks</th>\n",
       "      <td>90.676491</td>\n",
       "      <td>25.304709</td>\n",
       "      <td>174</td>\n",
       "      <td>1</td>\n",
       "      <td>1534</td>\n",
       "    </tr>\n",
       "    <tr>\n",
       "      <th>Aaron Stecker</th>\n",
       "      <td>76.536367</td>\n",
       "      <td>30.857143</td>\n",
       "      <td>659</td>\n",
       "      <td>211</td>\n",
       "      <td>448</td>\n",
       "    </tr>\n",
       "    <tr>\n",
       "      <th>Amos Zereoue</th>\n",
       "      <td>96.412474</td>\n",
       "      <td>31.608997</td>\n",
       "      <td>2555</td>\n",
       "      <td>935</td>\n",
       "      <td>1620</td>\n",
       "    </tr>\n",
       "    <tr>\n",
       "      <th>Anthony Thomas</th>\n",
       "      <td>104.088696</td>\n",
       "      <td>30.109569</td>\n",
       "      <td>3305</td>\n",
       "      <td>377</td>\n",
       "      <td>2928</td>\n",
       "    </tr>\n",
       "    <tr>\n",
       "      <th>Chad Pennington</th>\n",
       "      <td>85.562836</td>\n",
       "      <td>28.545706</td>\n",
       "      <td>116</td>\n",
       "      <td>7</td>\n",
       "      <td>420</td>\n",
       "    </tr>\n",
       "    <tr>\n",
       "      <th>Correll Buckhalter</th>\n",
       "      <td>107.336054</td>\n",
       "      <td>30.534810</td>\n",
       "      <td>2273</td>\n",
       "      <td>503</td>\n",
       "      <td>1770</td>\n",
       "    </tr>\n",
       "    <tr>\n",
       "      <th>Daunte Culpepper</th>\n",
       "      <td>122.184590</td>\n",
       "      <td>31.786704</td>\n",
       "      <td>416</td>\n",
       "      <td>0</td>\n",
       "      <td>2626</td>\n",
       "    </tr>\n",
       "    <tr>\n",
       "      <th>Derrick Blaylock</th>\n",
       "      <td>107.370696</td>\n",
       "      <td>28.506122</td>\n",
       "      <td>785</td>\n",
       "      <td>246</td>\n",
       "      <td>539</td>\n",
       "    </tr>\n",
       "    <tr>\n",
       "      <th>Deuce McAllister</th>\n",
       "      <td>117.389327</td>\n",
       "      <td>29.994370</td>\n",
       "      <td>7452</td>\n",
       "      <td>1539</td>\n",
       "      <td>5913</td>\n",
       "    </tr>\n",
       "    <tr>\n",
       "      <th>Donovan McNabb</th>\n",
       "      <td>96.219465</td>\n",
       "      <td>29.320672</td>\n",
       "      <td>1123</td>\n",
       "      <td>-1</td>\n",
       "      <td>3146</td>\n",
       "    </tr>\n",
       "    <tr>\n",
       "      <th>Drew Brees</th>\n",
       "      <td>78.274639</td>\n",
       "      <td>28.778382</td>\n",
       "      <td>392</td>\n",
       "      <td>73</td>\n",
       "      <td>686</td>\n",
       "    </tr>\n",
       "    <tr>\n",
       "      <th>Edgerrin James</th>\n",
       "      <td>117.378162</td>\n",
       "      <td>29.183712</td>\n",
       "      <td>13327</td>\n",
       "      <td>2759</td>\n",
       "      <td>10568</td>\n",
       "    </tr>\n",
       "  </tbody>\n",
       "</table>\n",
       "</div>"
      ],
      "text/plain": [
       "                    speedscore        BMI  total_yards  receiving_yards  \\\n",
       "Aaron Brooks         90.676491  25.304709          174                1   \n",
       "Aaron Stecker        76.536367  30.857143          659              211   \n",
       "Amos Zereoue         96.412474  31.608997         2555              935   \n",
       "Anthony Thomas      104.088696  30.109569         3305              377   \n",
       "Chad Pennington      85.562836  28.545706          116                7   \n",
       "Correll Buckhalter  107.336054  30.534810         2273              503   \n",
       "Daunte Culpepper    122.184590  31.786704          416                0   \n",
       "Derrick Blaylock    107.370696  28.506122          785              246   \n",
       "Deuce McAllister    117.389327  29.994370         7452             1539   \n",
       "Donovan McNabb       96.219465  29.320672         1123               -1   \n",
       "Drew Brees           78.274639  28.778382          392               73   \n",
       "Edgerrin James      117.378162  29.183712        13327             2759   \n",
       "\n",
       "                    rushing_yards  \n",
       "Aaron Brooks                 1534  \n",
       "Aaron Stecker                 448  \n",
       "Amos Zereoue                 1620  \n",
       "Anthony Thomas               2928  \n",
       "Chad Pennington               420  \n",
       "Correll Buckhalter           1770  \n",
       "Daunte Culpepper             2626  \n",
       "Derrick Blaylock              539  \n",
       "Deuce McAllister             5913  \n",
       "Donovan McNabb               3146  \n",
       "Drew Brees                    686  \n",
       "Edgerrin James              10568  "
      ]
     },
     "execution_count": 5,
     "metadata": {},
     "output_type": "execute_result"
    }
   ],
   "source": [
    "regdata = pd.concat([combineData[0:120],ydsData[0:120]],axis=1)\n",
    "regdata = regdata.dropna()\n",
    "regdata"
   ]
  },
  {
   "cell_type": "code",
   "execution_count": 6,
   "metadata": {
    "collapsed": false
   },
   "outputs": [],
   "source": [
    "mod = sm.OLS(regdata['speedscore'],regdata['total_yards'])"
   ]
  },
  {
   "cell_type": "code",
   "execution_count": 7,
   "metadata": {
    "collapsed": false
   },
   "outputs": [],
   "source": [
    "res = mod.fit()"
   ]
  },
  {
   "cell_type": "code",
   "execution_count": 8,
   "metadata": {
    "collapsed": false
   },
   "outputs": [
    {
     "name": "stdout",
     "output_type": "stream",
     "text": [
      "                            OLS Regression Results                            \n",
      "==============================================================================\n",
      "Dep. Variable:             speedscore   R-squared:                       0.415\n",
      "Model:                            OLS   Adj. R-squared:                  0.362\n",
      "Method:                 Least Squares   F-statistic:                     7.799\n",
      "Date:                Wed, 09 Mar 2016   Prob (F-statistic):             0.0175\n",
      "Time:                        10:41:04   Log-Likelihood:                -69.195\n",
      "No. Observations:                  12   AIC:                             140.4\n",
      "Df Residuals:                      11   BIC:                             140.9\n",
      "Df Model:                           1                                         \n",
      "Covariance Type:            nonrobust                                         \n",
      "===============================================================================\n",
      "                  coef    std err          t      P>|t|      [95.0% Conf. Int.]\n",
      "-------------------------------------------------------------------------------\n",
      "total_yards     0.0140      0.005      2.793      0.018         0.003     0.025\n",
      "==============================================================================\n",
      "Omnibus:                       15.674   Durbin-Watson:                   0.490\n",
      "Prob(Omnibus):                  0.000   Jarque-Bera (JB):               10.206\n",
      "Skew:                          -1.803   Prob(JB):                      0.00608\n",
      "Kurtosis:                       5.722   Cond. No.                         1.00\n",
      "==============================================================================\n",
      "\n",
      "Warnings:\n",
      "[1] Standard Errors assume that the covariance matrix of the errors is correctly specified.\n"
     ]
    },
    {
     "name": "stderr",
     "output_type": "stream",
     "text": [
      "/Users/long/miniconda2/lib/python2.7/site-packages/scipy/stats/stats.py:1557: UserWarning: kurtosistest only valid for n>=20 ... continuing anyway, n=12\n",
      "  \"anyway, n=%i\" % int(n))\n"
     ]
    }
   ],
   "source": [
    "print res.summary()"
   ]
  },
  {
   "cell_type": "code",
   "execution_count": 9,
   "metadata": {
    "collapsed": false
   },
   "outputs": [
    {
     "data": {
      "image/png": "[encoded data removed]",
      "text/plain": [
       "<matplotlib.figure.Figure at 0x111872b10>"
      ]
     },
     "execution_count": 9,
     "metadata": {},
     "output_type": "execute_result"
    },
    {
     "data": {
      "image/png": "[encoded data removed]",
      "text/plain": [
       "<matplotlib.figure.Figure at 0x111872b10>"
      ]
     },
     "metadata": {},
     "output_type": "display_data"
    }
   ],
   "source": [
    "sm.graphics.plot_partregress('speedscore', 'total_yards', [], data = regdata, obs_labels=False)"
   ]
  },
  {
   "cell_type": "code",
   "execution_count": null,
   "metadata": {
    "collapsed": false
   },
   "outputs": [],
   "source": [
    "X = regdata[['speedscore','BMI']]\n",
    "Y = regdata['total_yards']\n",
    "X = sm.add_constant(X)\n",
    "mod2 = sm.OLS(Y,X)"
   ]
  },
  {
   "cell_type": "code",
   "execution_count": null,
   "metadata": {
    "collapsed": true
   },
   "outputs": [],
   "source": [
    "res2 = mod2.fit()"
   ]
  },
  {
   "cell_type": "code",
   "execution_count": null,
   "metadata": {
    "collapsed": false
   },
   "outputs": [],
   "source": [
    "xx1, xx2 = np.meshgrid(np.linspace(regdata['speedscore'].min(), regdata['speedscore'].max(), 100), \n",
    "                       np.linspace(regdata['BMI'].min(), regdata['BMI'].max(), 100))"
   ]
  },
  {
   "cell_type": "code",
   "execution_count": null,
   "metadata": {
    "collapsed": false
   },
   "outputs": [],
   "source": [
    "res2.params"
   ]
  },
  {
   "cell_type": "code",
   "execution_count": null,
   "metadata": {
    "collapsed": false
   },
   "outputs": [],
   "source": [
    "Z = res2.params[0] + res2.params[1] * xx1 + res2.params[2] * xx2"
   ]
  },
  {
   "cell_type": "code",
   "execution_count": null,
   "metadata": {
    "collapsed": false
   },
   "outputs": [],
   "source": [
    "fig = plt.figure(figsize=(12, 8))\n",
    "ax = Axes3D(fig, azim=-115, elev=15)\n",
    "surf = ax.plot_surface(xx1, xx2, Z, cmap=plt.cm.RdBu_r, alpha=0.6, linewidth=0)\n",
    "resid = Y - res2.predict(X)\n",
    "ax.scatter(X[resid >= 0]['speedscore'], X[resid >= 0]['BMI'], Y[resid >= 0], c='r',\n",
    "            marker = 'o')\n",
    "ax.scatter(X[resid < 0]['speedscore'], X[resid < 0]['BMI'], Y[resid < 0], color='black', alpha=1.0)\n",
    "ax.set_xlabel('speedscore')\n",
    "ax.set_ylabel('BMI')\n",
    "ax.set_zlabel('Totalyards')"
   ]
  },
  {
   "cell_type": "code",
   "execution_count": null,
   "metadata": {
    "collapsed": false
   },
   "outputs": [],
   "source": [
    "resid"
   ]
  },
  {
   "cell_type": "code",
   "execution_count": null,
   "metadata": {
    "collapsed": false
   },
   "outputs": [],
   "source": [
    "combine_sort = combine.groupby(['college'])['index'].count()\n",
    "combine_sort = combine_sort.sort_values(ascending =False)\n",
    "combine_sort[0:10].plot(kind = 'Bar')"
   ]
  },
  {
   "cell_type": "code",
   "execution_count": null,
   "metadata": {
    "collapsed": true
   },
   "outputs": [],
   "source": []
  }
 ],
 "metadata": {
  "kernelspec": {
   "display_name": "Python 2",
   "language": "python",
   "name": "python2"
  },
  "language_info": {
   "codemirror_mode": {
    "name": "ipython",
    "version": 2
   },
   "file_extension": ".py",
   "mimetype": "text/x-python",
   "name": "python",
   "nbconvert_exporter": "python",
   "pygments_lexer": "ipython2",
   "version": "2.7.11"
  }
 },
 "nbformat": 4,
 "nbformat_minor": 0
}
